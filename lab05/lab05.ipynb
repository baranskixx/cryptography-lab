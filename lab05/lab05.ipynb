{
 "cells": [
  {
   "cell_type": "markdown",
   "metadata": {},
   "source": [
    "# Kryptografia asymetryczna - kryptosystem RSA \n",
    "Kryptografia asymetryczna charakteryzuje się wykorzystaniem **pary kluczy publiczny-prywatny** (stąd nazwa kryptografia z kluczem publicznym). Klucz publiczny może być swobodnie dystrybuowany otwartym kanałem i służy do szyfrowania (a także do weryfikowania podpisu). Klucz prywatny musi być utrzymywany w tajności i służy do deszyfrowania (lub tworzenia podpisu). \n",
    "\n",
    "Chronologicznie pierwszym kryptosystemem asymetrycznym był protokół wymiany kluczu Diffiego-Hellmana-Merkla. Służy on bezpiecznej wymiany danych, które mogą być wykorzystane jako tajne klucze kryptograficzne lub mogą być użyte do wyprodukowania kluczy. \n",
    "\n",
    "Najbardziej znanym kryptosystem z kluczem publicznym jest RSA (nazwa pochodzi od wynalazów: Rivest, Shamir i Adlemann). RSA umożliwia szyfrowanie danych jak również realizację podpisu cyfrowego. Bezpieczeństwo RSA opiera się na obliczeniowej trudności rozwiązania **problemu faktoryzacji liczb całkowitych złożonych**. "
   ]
  },
  {
   "cell_type": "markdown",
   "metadata": {},
   "source": [
    "### Algorytm szybkiego potęgowania \n",
    "1. Zwykłe potęgowanie $n^{exp}$: $exp$ mnożeń \n",
    "2. Algorytm szybkiego potęgowania: część mnożeń zastępujemy podnoszeniem do kwadratu (_squaring_).\n",
    "    __Skąd mamy wiedzieć kiedy mnożyć, a kiedy potęgować?__"
   ]
  },
  {
   "cell_type": "code",
   "execution_count": 12,
   "metadata": {},
   "outputs": [],
   "source": [
    "def fastModularExponentation(b, exp, m):\n",
    "    res = 1\n",
    "    while exp > 1:\n",
    "        if exp & 1:\n",
    "            res = (res * b) % m\n",
    "        b = b ** 2 % m\n",
    "        exp >>= 1\n",
    "    return (b * res) % m"
   ]
  },
  {
   "cell_type": "markdown",
   "metadata": {},
   "source": [
    "### Skąd wziąć dużą liczbę pierwszą? \n",
    "**Wylosować i sprawdzić czy jest pierwsza!**\n",
    "\n",
    "Test probabilistyczny, np. Rabina-Millera. "
   ]
  },
  {
   "cell_type": "code",
   "execution_count": 34,
   "metadata": {},
   "outputs": [
    {
     "name": "stdout",
     "output_type": "stream",
     "text": [
      "65519\n",
      "65521\n",
      "65537\n",
      "65539\n",
      "65543\n",
      "65551\n",
      "65557\n",
      "65563\n",
      "65579\n",
      "65581\n",
      "65587\n",
      "65599\n"
     ]
    }
   ],
   "source": [
    "import random\n",
    "def isPrime3(n, k):\n",
    "    if n < 2: return False\n",
    "    if n < 4: return True\n",
    "    if n % 2 == 0: return False    # speedup\n",
    "\n",
    "    s = 0\n",
    "    d = n-1\n",
    "    while d % 2 == 0:\n",
    "        s += 1\n",
    "        d //= 2\n",
    "    \n",
    "    for _ in range(k):\n",
    "        a = random.randint(2, n-2)\n",
    "        x = pow(a, d, n)\n",
    "        \n",
    "        if x == 1 or x == n-1:\n",
    "            continue\n",
    "        j = 1\n",
    "        while j < s and x != n-1:\n",
    "            j += 1\n",
    "            x = pow(x, 2, n)\n",
    "            \n",
    "            if x == 1:\n",
    "                return False\n",
    "        \n",
    "        if x != n-1:\n",
    "            return False\n",
    "            \n",
    "    return True    \n",
    "\n",
    "for i in range(65500,65600):            \n",
    "    if(isPrime3(i,10)): print(i)"
   ]
  },
  {
   "cell_type": "markdown",
   "metadata": {},
   "source": [
    "### Obliczanie elementu odwrotnego w ciele skończonym\n",
    "1. Algorytm Euklidesa - znajdowanie największego wspólnego dzielnika\n",
    "2. Rozszerzony Algorytm Euklidesa - obliczanie elementu odwrotnego względem mnożenia w ciele skończonym\n",
    "\n",
    "Przeanalizuj poniższy kod."
   ]
  },
  {
   "cell_type": "code",
   "execution_count": 35,
   "metadata": {},
   "outputs": [
    {
     "name": "stdout",
     "output_type": "stream",
     "text": [
      "gcd( 154 , 801 ) =  1 5 -26\n",
      "Element odwrotny do  154 modulo 801 : 775\n",
      "775\n"
     ]
    }
   ],
   "source": [
    "\n",
    "## Funkcje pomocnicze \n",
    "def gcd(a, b):\n",
    "    # GCD - Greatest Common Divisor, Największy wspólny dzielnik \n",
    "    while a != 0:\n",
    "        a, b = b % a, a\n",
    "    return b\n",
    "\n",
    "# wersja rekurencyjna\n",
    "def gcdExtendedRecursion(a, b):  \n",
    "    # przypadek trywialny\n",
    "    if a == 0 :   \n",
    "        return b,1,0             \n",
    "    gcd,x1,y1 = gcdExtendedRecursion(b%a, a) #rekurencyjny Euklides      \n",
    "   \n",
    "    # sumowanie powrotne  \n",
    "    y = x1 - (b//a) * y1  \n",
    "    x = y1  \n",
    "    \n",
    "    return gcd,x,y \n",
    "\n",
    "#wersja iteracyjna\n",
    "def findModInverse(a, m):\n",
    "    # Zwraca liczbę x odwrotną do a ciele skończonym modulo m \n",
    "    # czyli (a*x) % m =1 \n",
    "\n",
    "    if gcd(a, m) != 1:\n",
    "        return None #a i m muszą być względnie pierwsze aby istniał element odwrotny \n",
    "\n",
    "    # Rozszerzony algorytm Euklidesa \n",
    "    u1, u2, u3 = 1, 0, a\n",
    "    v1, v2, v3 = 0, 1, m\n",
    "    while v3 != 0:\n",
    "        q = u3 // v3 # // operator dzielenie całkowitoliczbowego \n",
    "        v1, v2, v3, u1, u2, u3 = (u1 - q * v1), (u2 - q * v2), (u3 - q * v3), v1, v2, v3\n",
    "    return u1 % m\n",
    "\n",
    "\n",
    "a, b = 154,801\n",
    "g, x, y = gcdExtendedRecursion(a, b)  \n",
    "print(\"gcd(\", a , \",\" , b, \") = \", g, x, y)\n",
    "print(\"Element odwrotny do \", a, \"modulo\", b, \":\", y%b)\n",
    "\n",
    "print(findModInverse(154,801))"
   ]
  },
  {
   "cell_type": "markdown",
   "metadata": {},
   "source": [
    "## Generowanie kluczy w kryptosystemie RSA\n",
    "Potrzebujemy dwóch liczb pierwszych o naprawdę dużych rozmiarach - 2048 bitów obecnie uważa się niezbyt bezpieczny wybór. 4096 bitów jest z kolei wielkością nieco kłopotliwą w użytkowaniu.\n",
    "### Zadanie\n",
    "1. Napisz funkcję generującą liczbę pierwszą o określonej długości w bitach. "
   ]
  },
  {
   "cell_type": "code",
   "execution_count": 40,
   "metadata": {},
   "outputs": [
    {
     "name": "stdout",
     "output_type": "stream",
     "text": [
      "30072706396183340896408753837253531005723790680669749283701285701645547431602360877972083126280609694530476360081181901044156311220036113146235631983597475860856538342209564001549171244659976652509847679678212516625707445708771988913026470609138932318174171872755482535824683593719421943747783864082844258409366699443757732151355665229352741093980711955888943674125475056904189556981709860763692387503600709316237963561339874240894109633009674256564614315090255620602934802252804604165752186364893857207865809592012655215007408768646865417813945276403928389974749985029261563053318904156903979787780773844039662513859\n"
     ]
    }
   ],
   "source": [
    "#napisz funkcję generującą liczbę pierwszą \n",
    "\n",
    "first_primes = [2, 3, 5, 7, 11, 13, 17, 19, 23, 29, 31, 37, 41, 43, 47, 53, 59, 61, 67, 71, 73, 79, 83, 89, 97, 101, 103, 107, 109, 113, 127, 131, 137, 139, 149, 151, 157, 163, 167, 173, 179, 181, 191, 193, 197, 199, 211, 223, 227, 229, 233, 239, 241, 251, 257, 263, 269, 271, 277, 281, 283, 293, 307, 311, 313, 317, 331, 337, 347, 349, 353, 359, 367, 373, 379, 383, 389, 397, 401, 409, 419, 421, 431, 433, 439, 443, 449, 457, 461, 463, 467, 479, 487, 491, 499, 503, 509, 521, 523, 541, 547, 557, 563, 569, 571, 577, 587, 593, 599, 601, 607, 613, 617, 619, 631, 641, 643, 647, 653, 659, 661, 673, 677, 683, 691, 701, 709, 719, 727, 733, 739, 743, 751, 757, 761, 769, 773, 787, 797, 809, 811, 821, 823, 827, 829, 839, 853, 857, 859, 863, 877, 881, 883, 887, 907, 911, 919, 929, 937, 941, 947, 953, 967, 971, 977, 983, 991, 997, 1009, 1013, 1019, 1021, 1031, 1033, 1039, 1049, 1051, 1061, 1063, 1069, 1087, 1091, 1093, 1097, 1103, 1109, 1117, 1123, 1129, 1151, 1153, 1163, 1171, 1181, 1187, 1193, 1201, 1213, 1217, 1223, 1229, 1231, 1237, 1249, 1259, 1277, 1279, 1283, 1289, 1291, 1297, 1301, 1303, 1307, 1319, 1321, 1327, 1361, 1367, 1373, 1381, 1399, 1409, 1423, 1427, 1429, 1433, 1439, 1447, 1451, 1453, 1459, 1471, 1481, 1483, 1487, 1489, 1493, 1499, 1511, 1523, 1531, 1543, 1549, 1553, 1559, 1567, 1571, 1579, 1583, 1597, 1601, 1607, 1609, 1613, 1619, 1621, 1627, 1637, 1657, 1663, 1667, 1669, 1693, 1697, 1699, 1709, 1721, 1723, 1733, 1741, 1747, 1753, 1759, 1777, 1783, 1787, 1789, 1801, 1811, 1823, 1831, 1847, 1861, 1867, 1871, 1873, 1877, 1879, 1889, 1901, 1907, 1913, 1931, 1933, 1949, 1951, 1973, 1979, 1987, 1993, 1997, 1999]\n",
    "\n",
    "def generatePrime(keysize):\n",
    "    while True:\n",
    "        num = random.randint(2 ** (keysize -1), (2 ** keysize) - 1)\n",
    "        \n",
    "        if isPrime3(num, 10):\n",
    "            return num\n",
    "\n",
    "print(generatePrime(2048))"
   ]
  },
  {
   "cell_type": "markdown",
   "metadata": {},
   "source": [
    "## Zastanów się \n",
    "1. Znajdź zestawienie liczb silnie pseudopierwszych i sprawdź działanie (pojedynczego!) testy R-M dla takich liczb\n",
    "2. Ile testów R-M należy przeprowadzić aby osiągnąć bezpieczny poziom pewności testu"
   ]
  },
  {
   "cell_type": "markdown",
   "metadata": {},
   "source": [
    "### 2. Obliczamy składniki kluczy \n",
    "1. Wybieramy dwie duże liczby pierwsze $p$ i $q$\n",
    "2. Pierwszym składnikiem klucza jest moduł $n$ $n=p \\times q$ \n",
    "3. Poszukujemy wykładnika publicznego $e$, który jest względnie pierwszy z $(p-1)\\cdot (q-1)$ (czasami używane jest w miejscu pojęcie tocjentu lub funkcji Eulera: $\\phi(n) = \\phi(p)\\cdot \\phi(q) = (p − 1)·(q − 1)$)\n",
    "4. Poszukujemy wykładnika prywatnego $d$, które jest odwrotnością $e\\ (mod\\ (p-1)\\cdot (q-1))$: $de \\equiv 1  (mod\\ (p-1)\\cdot (q-1))$\n",
    "5. Kluczem publiczny jest para $(n, e)$, kluczem prywatnym jest para $(n, d)$."
   ]
  },
  {
   "cell_type": "markdown",
   "metadata": {},
   "source": [
    "## Zadanie \n",
    "\n",
    "1. Napisz funkcję generującą klucze RSA o ustalonym rozmiarze"
   ]
  },
  {
   "cell_type": "code",
   "execution_count": 53,
   "metadata": {},
   "outputs": [
    {
     "name": "stdout",
     "output_type": "stream",
     "text": [
      "(3129023923, 46051) (3129023923, 2697803419)\n"
     ]
    }
   ],
   "source": [
    "import random, sys, os\n",
    "\n",
    "sys.setrecursionlimit(10000)\n",
    "\n",
    "def generateKey(keySize):\n",
    "    p = generatePrime(keySize)\n",
    "    q = generatePrime(keySize)\n",
    "    \n",
    "    n = p * q\n",
    "    \n",
    "    e = (p-1) * (q-1)\n",
    "    while gcd(e, (p-1)*(q-1)) != 1:\n",
    "        e = random.randint(2 ** (keySize - 1), (2 ** keySize) - 1)\n",
    "    \n",
    "    d = findModInverse(e, (p-1) * (q-1))\n",
    "    \n",
    "    publicKey = (n, e)\n",
    "    privateKey = (n, d)\n",
    "    \n",
    "    return (publicKey, privateKey)\n",
    "\n",
    "pub,priv = generateKey(16)\n",
    "print(pub,priv)"
   ]
  },
  {
   "cell_type": "markdown",
   "metadata": {},
   "source": [
    "## Zadanie \n",
    "\n",
    "Napisz funkcje implementujące szyfrowanie i deszyfrowanie RSA (tzw. podręcznikowe)\n",
    "\n",
    "### Szyfrowanie RSA \n",
    "Operacja szyfrowania: $c=m^e (mod\\ n)$"
   ]
  },
  {
   "cell_type": "code",
   "execution_count": 54,
   "metadata": {},
   "outputs": [],
   "source": [
    "def encrypt(message, modulus, exp):\n",
    "    message_encrypted = pow(ord(message), exp, modulus)   \n",
    "  \n",
    "    return message_encrypted"
   ]
  },
  {
   "cell_type": "markdown",
   "metadata": {},
   "source": [
    "### Deszyfrowanie RSA \n",
    "Operacja szyfrowanie $m = c^d (mod\\ n)$"
   ]
  },
  {
   "cell_type": "code",
   "execution_count": 55,
   "metadata": {},
   "outputs": [],
   "source": [
    "def decrypt(message_encrypted, modulus, exp):\n",
    "    \n",
    "    message_ascii = chr(pow(message_encrypted, exp, modulus))\n",
    "    \n",
    "    return ('').join(message_ascii)"
   ]
  },
  {
   "cell_type": "code",
   "execution_count": null,
   "metadata": {},
   "outputs": [],
   "source": [
    "# generujemy klucz\n",
    "pub_key, priv_key = generateKey(2048)\n",
    "\n",
    "# wiadomośc do zaszyfrowania\n",
    "message = 'm'\n",
    "print(\"Wiadomość: \" + message)\n",
    "\n",
    "# szyfrujemy\n",
    "n, e = pub_key\n",
    "encrypted_message = encrypt(message, n, e)\n",
    "print('Wiadomośc zaszyfrowana: ' + str(encrypted_message))\n",
    "\n",
    "_, d = priv_key\n",
    "# rozszyfrowujemy\n",
    "print('Wiadomośc odszyfrowana: ' + decrypt(encrypted_message, n, d))"
   ]
  },
  {
   "cell_type": "markdown",
   "metadata": {},
   "source": [
    "## Zastanów się\n",
    "1. Sprawdź działanie powyższej implementacji dla różnych wielkości klucza (podawane podczas generowania kluczy). \n",
    "2. Poszukaj informacji o trybie podręcznikowym RSA (*textbook RSA encryption*). Na czym polega? Jakie są jego wady i zalety? \n",
    "\n",
    "\n",
    "## Zadanie (dla chętnych)\n",
    "1. Zademonstruj deformowalność podręcznikowego szyfrowania RSA\n",
    "2. Zaimplementuj dopełnienie OAEP (_Optimal Assymmetric Encryption Padding_)\n"
   ]
  },
  {
   "cell_type": "code",
   "execution_count": null,
   "metadata": {},
   "outputs": [],
   "source": [
    "\n",
    "\n",
    "\n",
    "    "
   ]
  }
 ],
 "metadata": {
  "kernelspec": {
   "display_name": "Python 3 (ipykernel)",
   "language": "python",
   "name": "python3"
  },
  "language_info": {
   "codemirror_mode": {
    "name": "ipython",
    "version": 3
   },
   "file_extension": ".py",
   "mimetype": "text/x-python",
   "name": "python",
   "nbconvert_exporter": "python",
   "pygments_lexer": "ipython3",
   "version": "3.9.12"
  }
 },
 "nbformat": 4,
 "nbformat_minor": 2
}
