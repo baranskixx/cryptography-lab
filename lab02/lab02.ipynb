{
 "cells": [
  {
   "cell_type": "markdown",
   "metadata": {},
   "source": [
    "# Kryptografia z kluczem tajnym (symetryczna): szyfry strumieniowe\n",
    "### Literatura:\n",
    "1. Nowoczesna kryptografia, Aumasson\n",
    "2. Kryptografia dla praktyków, Schneier"
   ]
  },
  {
   "cell_type": "markdown",
   "metadata": {},
   "source": [
    "#### Funkcje pomocnicze\n",
    "Zadaniem poniższego zestawu funkcji jest zamiana wiadomości tekstowej (poprzez kody ASCII) do (tekstowego) ciągu 0 i 1. Chcemy analizować funkcje tak jak są one opisane w książkach.\n"
   ]
  },
  {
   "cell_type": "code",
   "execution_count": 1,
   "metadata": {},
   "outputs": [
    {
     "name": "stdout",
     "output_type": "stream",
     "text": [
      "Liczba 200 w zapisie binarnym na 8 bitach: 11001000\n",
      "Liczba 200 w zapisie binarnym na 16 bitach: 0000000011001000\n",
      "Tekst w formie kodów ASCII:  [84, 104, 101, 32, 113, 117, 105, 99, 107, 32, 98, 114, 111, 119, 110, 32, 102, 111, 120, 32, 106, 117, 109, 112, 115, 32, 111, 118, 101, 114, 32, 116, 104, 101, 32, 108, 97, 122, 121, 32, 100, 111, 103]\n",
      "Tekst w formie porcji bitów: ['01010100', '01101000', '01100101', '00100000', '01110001', '01110101', '01101001', '01100011', '01101011', '00100000', '01100010', '01110010', '01101111', '01110111', '01101110', '00100000', '01100110', '01101111', '01111000', '00100000', '01101010', '01110101', '01101101', '01110000', '01110011', '00100000', '01101111', '01110110', '01100101', '01110010', '00100000', '01110100', '01101000', '01100101', '00100000', '01101100', '01100001', '01111010', '01111001', '00100000', '01100100', '01101111', '01100111']\n",
      "Tekst w postaci ciągu 0 i 1: 01010100011010000110010100100000011100010111010101101001011000110110101100100000011000100111001001101111011101110110111000100000011001100110111101111000001000000110101001110101011011010111000001110011001000000110111101110110011001010111001000100000011101000110100001100101001000000110110001100001011110100111100100100000011001000110111101100111\n",
      "\n",
      "AND 0101010001100\n",
      "OR 0101010001101\n",
      "XOR 0000000000001\n",
      "NEG 1010101110010\n"
     ]
    }
   ],
   "source": [
    "# Funkcje pomocnicze \n",
    "from textwrap import wrap\n",
    "import math \n",
    "from codecs import encode\n",
    "\n",
    "#tablica znaków w tablicę kodów int\n",
    "def intoASCIIArray(message: str):\n",
    "    int_array = []\n",
    "    mesg_array = list(message) \n",
    "    for i in mesg_array:\n",
    "        int_array.append(ord(i))\n",
    "    return int_array\n",
    "\n",
    "#tablica kodów int w tablice znaków \n",
    "def intoCharArray(message: []):\n",
    "    mesg_char = []\n",
    "    for i in message:\n",
    "        mesg_char.append(chr(i))\n",
    "    return mesg_char\n",
    "\n",
    "# jak wyświetlić dane w postaci binarnej na n bitach \n",
    "get_bin = lambda x, n: format(x, 'b').zfill(n)\n",
    "\n",
    "#tekst ascii w postaci tablicy 8-bitowych porcji\n",
    "def ASCIIToBinChunks(message_list):\n",
    "    binary = []\n",
    "    for x in message_list: \n",
    "        binary.append(get_bin(x, 8))\n",
    "    return binary\n",
    "\n",
    "#tekst ascii w formie strumienia bitów \n",
    "def ASCIIToBinStream(binary: []):\n",
    "    binary_str = \"\"\n",
    "    for x in binary:\n",
    "        binary_str+=x \n",
    "    return binary_str\n",
    "\n",
    "\n",
    "# Przykłady\n",
    "\n",
    "# Liczba 200 w zapisie binarnym \n",
    "l = 200\n",
    "bl = get_bin(l,8)\n",
    "print(\"Liczba 200 w zapisie binarnym na 8 bitach:\", bl)\n",
    "bl = get_bin(l,16)\n",
    "print(\"Liczba 200 w zapisie binarnym na 16 bitach:\", bl)\n",
    "\n",
    "\n",
    "messageTxt = 'The quick brown fox jumps over the lazy dog'\n",
    "messageASCII = intoASCIIArray(messageTxt)\n",
    "print(\"Tekst w formie kodów ASCII: \",messageASCII)\n",
    "messageASCIIBinChunks = ASCIIToBinChunks(messageASCII)\n",
    "print(\"Tekst w formie porcji bitów:\", messageASCIIBinChunks)\n",
    "messageASCIIBinStream = ASCIIToBinStream(messageASCIIBinChunks) \n",
    "print(\"Tekst w postaci ciągu 0 i 1:\", messageASCIIBinStream)\n",
    "print()        \n",
    "\n",
    "\n",
    "#Operatory logiczne działające na napisach bitów \n",
    "def XOR(bits1,bits2):\n",
    "    \"\"\"perform a XOR operation and return the output\"\"\"\n",
    "    xor_result = \"\"\n",
    "    for index in range(len(bits1)):\n",
    "        if bits1[index] == bits2[index]: \n",
    "            xor_result += '0'\n",
    "        else:\n",
    "            xor_result += '1'\n",
    "    return xor_result  \n",
    "\n",
    "def AND(bits1,bits2):\n",
    "    \"\"\"perform a AND operation and return the output\"\"\"\n",
    "    and_result = \"\"\n",
    "    for index in range(len(bits1)):\n",
    "        if (bits1[index] == '1') and  (bits2[index] == '1'): \n",
    "            and_result += '1'\n",
    "        else:\n",
    "            and_result += '0'\n",
    "    return and_result  \n",
    "\n",
    "def OR(bits1,bits2):\n",
    "    \"\"\"perform a OR operation and return the output\"\"\"\n",
    "    or_result = \"\"\n",
    "    for index in range(len(bits1)):\n",
    "        if (bits1[index] == '0') and  (bits2[index] == '0'): \n",
    "            or_result += '0'\n",
    "        else:\n",
    "            or_result += '1'\n",
    "    return or_result  \n",
    "\n",
    "def NEG(bits):\n",
    "    \"\"\"perform a NEG operation and return the output\"\"\"\n",
    "    neg_result = \"\"\n",
    "    for index in range(len(bits)):\n",
    "        if (bits[index] == '0'): \n",
    "            neg_result += '1'\n",
    "        else:\n",
    "            neg_result += '0'\n",
    "    return neg_result  \n",
    "\n",
    "print(\"AND\", AND('0101010001101', '0101010001100'))    \n",
    "print(\"OR\", OR('0101010001101', '0101010001100')) \n",
    "print(\"XOR\", XOR('0101010001101', '0101010001100')) \n",
    "print(\"NEG\", NEG('0101010001101')) "
   ]
  },
  {
   "cell_type": "code",
   "execution_count": 2,
   "metadata": {},
   "outputs": [
    {
     "name": "stdout",
     "output_type": "stream",
     "text": [
      "Losowe bajty: ['10001110', '11111000', '11000111', '11110101', '11101100', '01010100', '00111110', '10011110']\n",
      "Strumień bitów: 1000111011111000110001111111010111101100010101000011111010011110\n",
      "Pojedyncze losowe bajty:10000110 00000010\n"
     ]
    }
   ],
   "source": [
    "# Generowanie losowych danych: funkcje i algorytmy pomocnicze \n",
    "import random\n",
    "random.seed(\"key\")  #generator PRNG w python można inicjalizować tekstem\n",
    "\n",
    "# jak wygenerować 8 losowych bitów (razy n)\n",
    "def randomBytes(n):\n",
    "    return bytes(random.getrandbits(8) for i in range(n))\n",
    "\n",
    "def randomByte():\n",
    "    return random.randint(0,255)\n",
    "\n",
    "def randomByteBin():\n",
    "    return get_bin(random.randint(0,255),8)\n",
    "\n",
    "#jak wygenerować ciąg losowych bajtów\n",
    "random_stream_chunks = []\n",
    "for i in range(8):\n",
    "    random_stream_chunks.append(randomByteBin())\n",
    "\n",
    "print(\"Losowe bajty:\", random_stream_chunks)\n",
    "    \n",
    "randomBinaryString = \"\"    \n",
    "for i in random_stream_chunks:\n",
    "    randomBinaryString+=i\n",
    "\n",
    "print(\"Strumień bitów:\", randomBinaryString)\n",
    "    \n",
    "print(\"Pojedyncze losowe bajty:\", end=\"\")\n",
    "bits1 = randomByteBin()\n",
    "bits2 = get_bin(randomByte(),8)\n",
    "print(bits1, bits2)"
   ]
  },
  {
   "cell_type": "markdown",
   "metadata": {},
   "source": [
    "### Zadanie samodzielne dla studentów\n",
    "Zaimplementuj szyfr, który utajnia strumień wiadomości jawnej przez łączenie go z pseudolosowym strumieniem \n"
   ]
  },
  {
   "cell_type": "code",
   "execution_count": 3,
   "metadata": {
    "scrolled": false
   },
   "outputs": [
    {
     "name": "stdout",
     "output_type": "stream",
     "text": [
      "Writing 's' (str) to file 'plaintext.txt'.\n",
      "Zaszyfrowane znaki: \n",
      "['Â', '\\x97', 'µ', '\\x90', '\\x81', 't', 'W', 'î', 'õ', 'w', '¿', 'ý', '4', '$', '\\x8f', 'f', 'ë', '\\x8c', 'Ò', 'å', 'Ó', 'Ç', '\\x07', '$', 'ü', '\\x06', 'i', 'M', '\\x17', 'ó', '\\x12', 'I', '»', '\\x08', '(', 'l', '¯', '\\x1f', '®', 'J', 'ø', 'Ó', 'j', 'ü', 'M', 'Ã', '¯', '\\x87', 'ã', '\\x1c', 'Û', 'L', 'ÿ', '1', '»', 'R', '£', 'u', 'Q', 'ù', 'E', '³', '\\xad', 'ª', '\\x95', 'p', '\\x01', '\\x1a', '\\x06', '\\x06', '\\x0c', '\\x94', '=', '2', '¬', 'R', '2', '*', '\\x95', 'm', 'd', 'í', '\\x85', '2', '\\x06', 'k', '\\x1b', 'T', '¬', ' ', '\\x15', 'g', 'w', '³', 'E', 'Ú', '\\x13', '»', 'u', '\\x05', '7', '-', '?', '3', ',', '°', 'Í', '\\x12', '2', '<', 'Õ', '\\x94', 'c', 'R', '6', '©', '¨', '8', '\\x8f', 'J', '+', 'U', 'U', 'È', '\\x10', 'Æ', 'Ó', '\\x80', '\\x1c', 'Ô', 'ø']\n",
      "Odszyfrowane znaki: \n",
      "['L', 'o', 'r', 'e', 'm', ' ', 'i', 'p', 's', 'u', 'm', ' ', 'd', 'o', 'l', 'o', 'r', ' ', 's', 'i', 't', ' ', 'a', 'm', 'e', 't', ',', ' ', 'c', 'o', 'n', 's', 'e', 'c', 't', 'e', 't', 'u', 'r', ' ', 'a', 'd', 'i', 'p', 'i', 's', 'c', 'i', 'n', 'g', ' ', 'e', 'l', 'i', 't', '.', ' ', 'N', 'u', 'n', 'c', ' ', 'e', 'g', 'e', 't', ' ', 'a', 'u', 'g', 'u', 'e', ' ', 'e', 'g', 'e', 't', ' ', 's', 'e', 'm', ' ', 's', 'o', 'd', 'a', 'l', 'e', 's', ' ', 'u', 'l', 't', 'r', 'i', 'c', 'e', 's', '.', ' ', 'Q', 'u', 'i', 's', 'q', 'u', 'e', ' ', 'd', 'a', 'p', 'i', 'b', 'u', 's', ',', ' ', 'u', 'r', 'n', 'a', ' ', 's', 'i', 't', ' ', 'a', 'm', 'e', 't', '.']\n"
     ]
    }
   ],
   "source": [
    "s='''Lorem ipsum dolor sit amet, consectetur adipiscing elit. Nunc eget augue eget sem sodales ultrices. Quisque dapibus, urna sit amet.'''\n",
    "%store s >plaintext.txt\n",
    "h = open(\"plaintext.txt\", \"r\")\n",
    "\n",
    "random.seed(\"key\")\n",
    "text_bin_chunks = ASCIIToBinChunks(intoASCIIArray(s))\n",
    "\n",
    "# szyfrowanie funkcją XOR\n",
    "ciphertext = []\n",
    "for chunk in text_bin_chunks:\n",
    "    cipher_chunk = int(XOR(chunk, randomByteBin()), 2)\n",
    "    ciphertext += [cipher_chunk]\n",
    "\n",
    "\n",
    "ciphertext = intoCharArray(ciphertext)    \n",
    "print(\"Zaszyfrowane znaki: \")\n",
    "print(ciphertext)\n",
    "\n",
    "# ponowne ustawienie seeda\n",
    "random.seed(\"key\")\n",
    "# konwersja znaków na 8bitowe porcje\n",
    "bin_s = ASCIIToBinChunks(intoASCIIArray(ciphertext))\n",
    "\n",
    "\n",
    "plaintext = []\n",
    "for chunk in bin_s:\n",
    "    cipher_chunk = int(XOR(chunk, randomByteBin()), 2)\n",
    "    plaintext += [cipher_chunk]\n",
    "\n",
    "    \n",
    "plaintext = intoCharArray(plaintext) \n",
    "print(\"Odszyfrowane znaki: \")\n",
    "print(plaintext)"
   ]
  },
  {
   "cell_type": "markdown",
   "metadata": {},
   "source": [
    "### Linear congruential generators (LCG)\n",
    "Generatory liniowe kongruentne sa najprostszymi generatorami dającymi ciągi liczb o dobrych własnościach statystycznych. Kolejne wyrazy ciągu generowane sa przy pomocy formuły:\n",
    "\n",
    "$z_{i+1}=(a\\cdot z_i+c)\\bmod m$\n",
    "\n",
    "Wyraz $z_0$ nazywany jest ziarnem (_seed_). Użycie tego samego ziarna gwarantuje nam wyprodukowanie tej samej sekwencji liczb.\n",
    "\n",
    "Charakterystyczną cechą GLK jest ich okresowość. Oczekujemy możliwie najdłuższego okresu (maksymalny to $m-1$). Najdłuższy okres otrzymamy gdy spełnione są pewne warunki (twierdzenie Hull'a-Dobell'a):\n",
    "\n",
    "- $c$ i $m$ są względnie pierwsze, \n",
    "- $a-1$ jest podzielne przez wszystkiem pierwsze czynniki $m$,\n",
    "- $a-1$ jest wielokrotnoścą 4 jeśli $m$ jest wielokrotnością 4.\n",
    "\n",
    "Przykładowe dobre wartości to $a=1103515245$, $c=12345$ dla $m=2^{31}$ \n",
    "\n",
    "Zazwyczaj generator zwraca wartość $\\frac{z_i}{m}$, ale wyjście można przeskalować do dowolnej innej wartości. \n",
    "\n",
    "Obecnie większość PRNG to tzw. _Mersenne twister_, ale ogólna idea ich użytkowania i własności jest taka sama jak w przypadku generatorów kongruentnych. "
   ]
  },
  {
   "cell_type": "code",
   "execution_count": 4,
   "metadata": {},
   "outputs": [
    {
     "name": "stdout",
     "output_type": "stream",
     "text": [
      "[166, 97, 88, 33, 91, 184, 211, 119, 189, 205, 46, 8, 82, 18, 98, 253, 139, 27, 203, 49, 203, 44, 215, 76, 5, 204, 67, 84, 70, 232, 23, 190, 31, 114, 226, 213, 33, 239, 96, 162, 104, 13, 14, 12, 112, 126, 219, 108, 23, 86, 124, 87, 47, 36, 130, 187, 97, 233, 206, 39, 210, 88, 112, 86, 72, 72, 144, 215, 63, 238, 132, 236, 182, 191, 142, 108, 23, 115, 119, 207, 4, 53, 145, 53, 114, 93, 60, 125, 219, 199, 126, 74, 236, 39, 212, 15, 121, 91, 202, 235]\n"
     ]
    }
   ],
   "source": [
    "def lcg(x, a, c, m):\n",
    "    while True:\n",
    "        x = (a * x + c) % m\n",
    "        yield x\n",
    "        \n",
    "def random_uniform_sample(n, interval, seed=0):\n",
    "    a, c, m = 1103515245, 12345, 2 ** 31\n",
    "    bsdrand = lcg(seed, a, c, m)\n",
    "\n",
    "    lower, upper = interval[0], interval[1]\n",
    "    sample = []\n",
    "\n",
    "    for i in range(n):\n",
    "        observation = (upper - lower) * (next(bsdrand) / (2 ** 31 - 1)) + lower\n",
    "        sample.append(round(observation))\n",
    "\n",
    "    return sample\n",
    "\n",
    "print(random_uniform_sample(100, [0,255],11))"
   ]
  },
  {
   "cell_type": "markdown",
   "metadata": {},
   "source": [
    "### Kryptograficzne generatory PRNG\n",
    "Urządzenie /dev/urandom stanowi podstawę dobrego generatora CPRNG"
   ]
  },
  {
   "cell_type": "code",
   "execution_count": 5,
   "metadata": {},
   "outputs": [
    {
     "name": "stdout",
     "output_type": "stream",
     "text": [
      "(1720138000,)\n",
      "(1500829036,)\n",
      "58\n",
      "(1719,)\n",
      "(2617,)\n",
      "(-5.247482087177541e-34,)\n",
      "(1.1945357537706758e+104,)\n",
      "(b'T',)\n"
     ]
    }
   ],
   "source": [
    "import os\n",
    "import struct\n",
    "\n",
    "# random integer using os.urandom()\n",
    "print(struct.unpack('i', os.urandom(4)))\n",
    "# Output (258871565,)\n",
    "\n",
    "# unsigned random integer using os.urandom()\n",
    "print(struct.unpack('I', os.urandom(4)))\n",
    "print(struct.unpack('I', os.urandom(4))[0] % 100)\n",
    "# Output (1015967885,)\n",
    "\n",
    "# random short number using os.urandom()\n",
    "print(struct.unpack('h', os.urandom(2)))\n",
    "# Output (-28882,)\n",
    "\n",
    "# unsigned random short using os.urandom()\n",
    "print(struct.unpack('H', os.urandom(2)))\n",
    "# Output (29492,)\n",
    "\n",
    "# Print random float using os.urandom()\n",
    "print(struct.unpack('f', os.urandom(4)))\n",
    "# Output (-4.651611836498911e+20,)\n",
    "\n",
    "# un-singed random decimal using os.urandom()\n",
    "print(struct.unpack('d', os.urandom(8)))\n",
    "# Output (-1.7024488468332834e-120,)\n",
    "\n",
    "# random char using os.urandom()\n",
    "print(struct.unpack('c', os.urandom(1)))\n",
    "# Output (b'\\xce',)"
   ]
  },
  {
   "cell_type": "markdown",
   "metadata": {},
   "source": [
    "### Zastanów się: \n",
    "1. Poszukaj informacji o szyfrach binarnie addytywnych \n",
    "2. Poszukaj informacji o szyfrach strumieniowych używanych w praktyce. Gdzie takie szyfry mogą być obecnie stosowane? "
   ]
  },
  {
   "cell_type": "markdown",
   "metadata": {},
   "source": [
    "### Problem \n",
    "Utwórz dwie różne wiadomości równej długości. Zaszyfruj je szyfrem XOR z użyciem tego samego klucza. Wyznacz alternatywę rozłączną szyfrogramów (XOR) i porównaj ją z tą samą operacją wykonaną dla tekstów jawnych. \n",
    "\n",
    "*Z oczywistych względów jeśli obie wiadomości zaszyfrujemy szyfrem XOR z tym samym kluczem to XOR wiadomości jest równy XOR szyfrogramów. Wystarczyłoby np. zdobyć/odgadnąć jeden tekst jawny*  "
   ]
  },
  {
   "cell_type": "code",
   "execution_count": 6,
   "metadata": {},
   "outputs": [
    {
     "name": "stdout",
     "output_type": "stream",
     "text": [
      "['10001000', '01100100', '10011101', '00101000', '01100010', '11011110']\n",
      "['10001011', '01101110', '10001011', '00111100', '01101001', '11010011']\n",
      "['00000011', '00001010', '00010110', '00010100', '00001011', '00001101']\n",
      "['00000011', '00001010', '00010110', '00010100', '00001011', '00001101']\n"
     ]
    }
   ],
   "source": [
    "message1 = 'secret'\n",
    "message2 = 'poufny'\n",
    "\n",
    "key = randomBytes(6)\n",
    "\n",
    "bin_m1 = ASCIIToBinChunks(intoASCIIArray(message1))\n",
    "bin_m2 = ASCIIToBinChunks(intoASCIIArray(message2))\n",
    "\n",
    "\n",
    "cipher_message1 = []\n",
    "cipher_message2 = []\n",
    "    \n",
    "for i in range(6):\n",
    "    bin_key_char = get_bin(key[i], 8)\n",
    "    \n",
    "    cipher_message1 += [XOR(bin_m1[i], bin_key_char)]\n",
    "    cipher_message2 += [XOR(bin_m2[i], bin_key_char)]\n",
    "\n",
    "\n",
    "xor_mess      = [XOR(bin_m1[x], bin_m2[x]) for x in range(6)]\n",
    "xor_mess_encr = [XOR(cipher_message1[x], cipher_message2[x]) for x in range(6)]\n",
    "\n",
    "print(cipher_message1)\n",
    "print(cipher_message2)\n",
    "print(xor_mess)\n",
    "print(xor_mess_encr)"
   ]
  },
  {
   "cell_type": "markdown",
   "metadata": {},
   "source": [
    "### Bezpieczeństwo szyfru XOR\n",
    "1. Jakie znaczenie ma powyższy wynik z punktu widzenia kryptoanalizy? \n",
    "2. Jeśli OTP to OK.\n",
    "3. Na czym polega atak ze znanym tekstem jawnym?"
   ]
  },
  {
   "cell_type": "markdown",
   "metadata": {},
   "source": [
    "### Problem\n",
    "\n",
    "1. Utwórz dowolną wiadomość $M_1$. \n",
    "2. Zaszyfruj ją swoim szyfrem XOR z kluczem $K$. \n",
    "3. Wykonaj na szyfrogramie $C_1$ operację $C_2 = C_1 \\oplus (111\\ldots1)$. \n",
    "4. Odszyfruj wiadomość $C_2$ stosując ten sam klucz $K$. \n",
    "5. Porównaj wiadomości: $M_1$ i odszyfrowaną w poprzednim kroku $M_2$ (najlepiej binarnie). \n",
    "\n",
    "*Demonstrujemy deformowalność szyfrowania XOR - możemy zmodyfikować szyfrogram tak by po odszyfrowniu wiadomość była _sensownie_ powiązana z oryginalnym tekstem jawnym* "
   ]
  },
  {
   "cell_type": "code",
   "execution_count": 7,
   "metadata": {},
   "outputs": [
    {
     "name": "stdout",
     "output_type": "stream",
     "text": [
      "Oryginalna wiadomość - w formie kodów ASCII:\n",
      "['01101101', '01111001', '00100000', '01101101', '01100101', '01110011', '01110011', '01100001', '01100111', '01100101', '00100000', '01101001', '01110011', '00100000', '01101000', '01100101', '01110010', '01100101']\n",
      "Zaszyfrowana wiadomość - w formie kodów ASCII:\n",
      "[84, 117, 172, 16, 23, 52, 71, 77, 191, 117, 47, 70, 28, 87, 101, 0, 164, 21]\n",
      "Zaszyfrowana wiadomość po XOR z samymi jedynkami - w formie kodów ASCII:\n",
      "[171, 138, 83, 239, 232, 203, 184, 178, 64, 138, 208, 185, 227, 168, 154, 255, 91, 234]\n",
      "Odszyfrowana wiadomość  - w formie kodów ASCII:\n",
      "[109, 121, 32, 109, 101, 115, 115, 97, 103, 101, 32, 105, 115, 32, 104, 101, 114, 101]\n"
     ]
    }
   ],
   "source": [
    "message = 'my message is here'\n",
    "key = randomBytes(len(message))\n",
    "\n",
    "random.seed(42)\n",
    "\n",
    "encrypted_message = []\n",
    "message_bin_chunks = ASCIIToBinChunks(intoASCIIArray(message))\n",
    "\n",
    "print(\"Oryginalna wiadomość - w formie kodów ASCII:\")\n",
    "print(message_bin_chunks)\n",
    "\n",
    "for i in range(len(message_bin_chunks)):\n",
    "    cipher_chunk = int(XOR(message_bin_chunks[i], randomByteBin()), 2)\n",
    "    encrypted_message.append(cipher_chunk)\n",
    "\n",
    "print(\"Zaszyfrowana wiadomość - w formie kodów ASCII:\")\n",
    "print(encrypted_message)\n",
    "\n",
    "encrypted_message_bin_chunks = ASCIIToBinChunks(encrypted_message)\n",
    "\n",
    "encrypted_message_after_xor = []\n",
    "\n",
    "for i in range(len(encrypted_message_bin_chunks)):\n",
    "    chunk = int(XOR(encrypted_message_bin_chunks[i], get_bin(255, 8)), 2)\n",
    "    encrypted_message_after_xor.append(chunk)\n",
    "\n",
    "print(\"Zaszyfrowana wiadomość po XOR z samymi jedynkami - w formie kodów ASCII:\")\n",
    "print(encrypted_message_after_xor)\n",
    "\n",
    "random.seed(42)\n",
    "\n",
    "decrypted_message1 = []\n",
    "decrypted_message2 = []\n",
    "\n",
    "for i in range(len(message_bin_chunks)):\n",
    "    chunk = int(XOR(encrypted_message_bin_chunks[i], randomByteBin()), 2)\n",
    "    decrypted_message1.append(chunk)\n",
    "\n",
    "print(\"Odszyfrowana wiadomość  - w formie kodów ASCII:\")\n",
    "print(decrypted_message1)\n",
    "\n"
   ]
  },
  {
   "cell_type": "markdown",
   "metadata": {},
   "source": [
    "# Szyfr strumieniowy RC4\n",
    "*Niech studenci sobie zrobią RC4, szyfry z LFSR, ChaCha20 i Salsa20 pokaże na wykładzie. Jeśli zdąże to przygotuję notebooka z kryptoanalizą RC4* \n",
    "\n",
    "1. Odkryj sposób działania algorytmu RC4. Poszukaj informacji gdzie był używany RC4.\n",
    "\n",
    "A) Inicjalizacja generatora liczb pseudolosowych:\n",
    "    \n",
    "    a) zainicjuj tablicę S liczbami od 0 do 255\n",
    "    b) permutuj tablicę S 256 razy (i=0...255); od j=0:\n",
    "        i = i + 1\n",
    "        j = (j + S[i] + K[i mod KeyLength]) mod 256\n",
    "        swap(S[i], S[j])\n",
    "    \n",
    "\n",
    "B) Generowanie strumienia klucza (od i,j=0):\n",
    "\n",
    "    a) i = (i + 1) mod 256\n",
    "    b) j = (j + S[i]) mod 256\n",
    "    c) swap(S[i], S[j])\n",
    "    d) keyStreamByte = S[(S[i]+S[j]) mod 256]\n",
    "    c) cipherByte = plaintextByte^keyStreamByte"
   ]
  },
  {
   "cell_type": "code",
   "execution_count": 53,
   "metadata": {},
   "outputs": [
    {
     "data": {
      "text/plain": [
       "<Figure size 1080x648 with 0 Axes>"
      ]
     },
     "metadata": {},
     "output_type": "display_data"
    }
   ],
   "source": [
    "import codecs\n",
    "import matplotlib.pyplot as plt\n",
    "plt.figure(figsize=(15,9))\n",
    "\n",
    "MOD = 256\n",
    "#inicjalizacja generatora szyfru RC4\n",
    "\n",
    "def KSA(key):\n",
    "    key_length = len(key)\n",
    "    # inicjalizuj tablice permutacji S\n",
    "  \n",
    "\n",
    "    return S"
   ]
  },
  {
   "cell_type": "code",
   "execution_count": 54,
   "metadata": {},
   "outputs": [],
   "source": [
    "#generator liczb pseudolosowych RC4\n",
    "def PRGA(S):\n",
    "    #... \n",
    " \n",
    "        yield K"
   ]
  },
  {
   "cell_type": "code",
   "execution_count": 55,
   "metadata": {
    "scrolled": false
   },
   "outputs": [
    {
     "ename": "NameError",
     "evalue": "name 'S' is not defined",
     "output_type": "error",
     "traceback": [
      "\u001b[0;31m---------------------------------------------------------------------------\u001b[0m",
      "\u001b[0;31mNameError\u001b[0m                                 Traceback (most recent call last)",
      "Input \u001b[0;32mIn [55]\u001b[0m, in \u001b[0;36m<cell line: 49>\u001b[0;34m()\u001b[0m\n\u001b[1;32m     46\u001b[0m     decrypted \u001b[38;5;241m=\u001b[39m decrypt(key, ciphertext)\n\u001b[1;32m     47\u001b[0m     \u001b[38;5;28mprint\u001b[39m(\u001b[38;5;124m'\u001b[39m\u001b[38;5;124mTekst odszyfrowany:\u001b[39m\u001b[38;5;124m'\u001b[39m, decrypted)\n\u001b[0;32m---> 49\u001b[0m \u001b[43mmain\u001b[49m\u001b[43m(\u001b[49m\u001b[43m)\u001b[49m\n",
      "Input \u001b[0;32mIn [55]\u001b[0m, in \u001b[0;36mmain\u001b[0;34m()\u001b[0m\n\u001b[1;32m     41\u001b[0m key \u001b[38;5;241m=\u001b[39m \u001b[38;5;124m'\u001b[39m\u001b[38;5;124mklucz-szyfrowy\u001b[39m\u001b[38;5;124m'\u001b[39m  \u001b[38;5;66;03m# plaintext\u001b[39;00m\n\u001b[1;32m     42\u001b[0m plaintext \u001b[38;5;241m=\u001b[39m \u001b[38;5;124m'\u001b[39m\u001b[38;5;124mLorem ipsum dolor sit amet, consectetur adipiscing elit. Proin nibh augue, suscipit a, scelerisque sed, lacinia in, mi.\u001b[39m\u001b[38;5;124m'\u001b[39m  \u001b[38;5;66;03m# plaintext\u001b[39;00m\n\u001b[0;32m---> 43\u001b[0m ciphertext \u001b[38;5;241m=\u001b[39m \u001b[43mencrypt\u001b[49m\u001b[43m(\u001b[49m\u001b[43mkey\u001b[49m\u001b[43m,\u001b[49m\u001b[43m \u001b[49m\u001b[43mplaintext\u001b[49m\u001b[43m)\u001b[49m\n\u001b[1;32m     44\u001b[0m \u001b[38;5;28mprint\u001b[39m(\u001b[38;5;124m'\u001b[39m\u001b[38;5;124mTekst jawny:\u001b[39m\u001b[38;5;124m'\u001b[39m, plaintext)\n\u001b[1;32m     45\u001b[0m \u001b[38;5;28mprint\u001b[39m(\u001b[38;5;124m'\u001b[39m\u001b[38;5;124mSzyfrogram:\u001b[39m\u001b[38;5;124m'\u001b[39m, ciphertext)\n",
      "Input \u001b[0;32mIn [55]\u001b[0m, in \u001b[0;36mencrypt\u001b[0;34m(key, plaintext)\u001b[0m\n\u001b[1;32m     19\u001b[0m kstream \u001b[38;5;241m=\u001b[39m[]\n\u001b[1;32m     20\u001b[0m plaintext \u001b[38;5;241m=\u001b[39m [\u001b[38;5;28mord\u001b[39m(c) \u001b[38;5;28;01mfor\u001b[39;00m c \u001b[38;5;129;01min\u001b[39;00m plaintext]\n\u001b[0;32m---> 21\u001b[0m text \u001b[38;5;241m=\u001b[39m \u001b[43mencrypt_logic\u001b[49m\u001b[43m(\u001b[49m\u001b[43mkey\u001b[49m\u001b[43m,\u001b[49m\u001b[43m \u001b[49m\u001b[43mplaintext\u001b[49m\u001b[43m,\u001b[49m\u001b[43mkstream\u001b[49m\u001b[43m)\u001b[49m\n\u001b[1;32m     22\u001b[0m \u001b[38;5;66;03m#print(\"\\n Key stream :\", kstream)\u001b[39;00m\n\u001b[1;32m     23\u001b[0m \u001b[38;5;66;03m# matplotlib histogram\u001b[39;00m\n\u001b[1;32m     24\u001b[0m plt\u001b[38;5;241m.\u001b[39mhist(kstream, color \u001b[38;5;241m=\u001b[39m \u001b[38;5;124m'\u001b[39m\u001b[38;5;124mblue\u001b[39m\u001b[38;5;124m'\u001b[39m, edgecolor \u001b[38;5;241m=\u001b[39m \u001b[38;5;124m'\u001b[39m\u001b[38;5;124mblack\u001b[39m\u001b[38;5;124m'\u001b[39m, bins \u001b[38;5;241m=\u001b[39m \u001b[38;5;241m256\u001b[39m)\n",
      "Input \u001b[0;32mIn [55]\u001b[0m, in \u001b[0;36mencrypt_logic\u001b[0;34m(key, text, kstr)\u001b[0m\n\u001b[1;32m      6\u001b[0m \u001b[38;5;28;01mdef\u001b[39;00m \u001b[38;5;21mencrypt_logic\u001b[39m(key, text, kstr):\n\u001b[1;32m      7\u001b[0m     key \u001b[38;5;241m=\u001b[39m [\u001b[38;5;28mord\u001b[39m(c) \u001b[38;5;28;01mfor\u001b[39;00m c \u001b[38;5;129;01min\u001b[39;00m key]\n\u001b[0;32m----> 8\u001b[0m     keystream \u001b[38;5;241m=\u001b[39m \u001b[43mget_keystream\u001b[49m\u001b[43m(\u001b[49m\u001b[43mkey\u001b[49m\u001b[43m)\u001b[49m\n\u001b[1;32m      9\u001b[0m     res \u001b[38;5;241m=\u001b[39m []\n\u001b[1;32m     10\u001b[0m     \u001b[38;5;28;01mfor\u001b[39;00m c \u001b[38;5;129;01min\u001b[39;00m text:\n",
      "Input \u001b[0;32mIn [55]\u001b[0m, in \u001b[0;36mget_keystream\u001b[0;34m(key)\u001b[0m\n\u001b[1;32m      1\u001b[0m \u001b[38;5;28;01mdef\u001b[39;00m \u001b[38;5;21mget_keystream\u001b[39m(key):\n\u001b[0;32m----> 2\u001b[0m     S \u001b[38;5;241m=\u001b[39m \u001b[43mKSA\u001b[49m\u001b[43m(\u001b[49m\u001b[43mkey\u001b[49m\u001b[43m)\u001b[49m\n\u001b[1;32m      3\u001b[0m     \u001b[38;5;28;01mreturn\u001b[39;00m PRGA(S)\n",
      "Input \u001b[0;32mIn [53]\u001b[0m, in \u001b[0;36mKSA\u001b[0;34m(key)\u001b[0m\n\u001b[1;32m      9\u001b[0m key_length \u001b[38;5;241m=\u001b[39m \u001b[38;5;28mlen\u001b[39m(key)\n\u001b[1;32m     10\u001b[0m \u001b[38;5;66;03m# inicjalizuj tablice permutacji S\u001b[39;00m\n\u001b[0;32m---> 13\u001b[0m \u001b[38;5;28;01mreturn\u001b[39;00m \u001b[43mS\u001b[49m\n",
      "\u001b[0;31mNameError\u001b[0m: name 'S' is not defined"
     ]
    }
   ],
   "source": [
    "def get_keystream(key):\n",
    "    S = KSA(key)\n",
    "    return PRGA(S)\n",
    "\n",
    "\n",
    "def encrypt_logic(key, text, kstr):\n",
    "    key = [ord(c) for c in key]\n",
    "    keystream = get_keystream(key)\n",
    "    res = []\n",
    "    for c in text:\n",
    "        ks = next(keystream)\n",
    "        kstr.append(ks)\n",
    "        val = (\"%02X\" % (c ^ ks))  # XOR and taking hex\n",
    "        res.append(val)\n",
    "    return ''.join(res)\n",
    "\n",
    "\n",
    "def encrypt(key, plaintext):\n",
    "    kstream =[]\n",
    "    plaintext = [ord(c) for c in plaintext]\n",
    "    text = encrypt_logic(key, plaintext,kstream)\n",
    "    #print(\"\\n Key stream :\", kstream)\n",
    "    # matplotlib histogram\n",
    "    plt.hist(kstream, color = 'blue', edgecolor = 'black', bins = 256)\n",
    "    plt.title('Histogram of RC4 key stream')\n",
    "    plt.xlabel('Values')\n",
    "    plt.ylabel('Frequency')\n",
    "    plt.figure(figsize=(15,19))\n",
    "    plt.show()\n",
    "    return text\n",
    "\n",
    "def decrypt(key, ciphertext):\n",
    "    kstream =[]\n",
    "    ciphertext = codecs.decode(ciphertext, 'hex_codec')\n",
    "    res = encrypt_logic(key, ciphertext,kstream)\n",
    "    return codecs.decode(res, 'hex_codec').decode('utf-8')\n",
    "\n",
    "\n",
    "def main():\n",
    "\n",
    "    key = 'klucz-szyfrowy'  # plaintext\n",
    "    plaintext = 'Lorem ipsum dolor sit amet, consectetur adipiscing elit. Proin nibh augue, suscipit a, scelerisque sed, lacinia in, mi.'  # plaintext\n",
    "    ciphertext = encrypt(key, plaintext)\n",
    "    print('Tekst jawny:', plaintext)\n",
    "    print('Szyfrogram:', ciphertext)\n",
    "    decrypted = decrypt(key, ciphertext)\n",
    "    print('Tekst odszyfrowany:', decrypted)\n",
    "    \n",
    "main()\n"
   ]
  },
  {
   "cell_type": "markdown",
   "metadata": {},
   "source": [
    "## Jak sprawdzać losowość ciągu? Testy losowaości.  \n",
    "*Jeśli wystarczy czasu to można wspomniać o testach losowości, np. z kolekcji NIST* \n",
    "\n",
    "1. Poszukaj informacji o kryptograficznych generatorach liczb pseudolosowych. Jaki jest najważniejsza własność generatora z punktu widzenia kryptografii? \n",
    "2. Przykładowy test losowości monobit (https://csrc.nist.gov/publications/detail/sp/800-22/rev-1a/final). Przeanalizuj kod. "
   ]
  },
  {
   "cell_type": "code",
   "execution_count": 60,
   "metadata": {},
   "outputs": [
    {
     "name": "stdout",
     "output_type": "stream",
     "text": [
      "0101101011111000111110011000101111101100111111100011011100100011111011100111101101101110100101000111101001011000011010001011000010100100100110000011011110111111100100010101110101100101010011100011100110000100100011111111011000111011011100101001001011010001100011010101110011011011100110000101110110100011001010101010101110011010101011111001110011100110110100110010100001101001010010000001001010001010101100101110010011111010110110111111111110110000101101111101001011011110010000010001000110100011011111011111010010000100001101000101100000011010101000011111010110000011011111111011101010111010100100101001011100010000011100011001000100110000011110111001100011011110000100101000011011100101011110010110000010101101001110100010011011111010101010110101110111000010011000111110101001100011000110001101010100111000110010111010000101010101111101101000110100100001010101010010000010000110110000001001100111010100100101100000100100100010001000011001001100101100000001000011100111100000010010010111010100001000011110000101111110110100\n",
      "0.9501646619415056\n"
     ]
    }
   ],
   "source": [
    "import numpy\n",
    "import math\n",
    "from scipy import special as spc\n",
    "\n",
    "def monobit(bin_data: str):\n",
    "    \"\"\"\n",
    "    Note that this description is taken from the NIST documentation [1]\n",
    "    [1] http://csrc.nist.gov/publications/nistpubs/800-22-rev1a/SP800-22rev1a.pdf\n",
    "  \n",
    "    The focus of this test is the proportion of zeros and ones for the entire sequence. The purpose of this test is\n",
    "    to determine whether the number of ones and zeros in a sequence are approximately the same as would be expected\n",
    "    for a truly random sequence. This test assesses the closeness of the fraction of ones to 1/2, that is the number\n",
    "    of ones and zeros ina  sequence should be about the same. All subsequent tests depend on this test.\n",
    "  \n",
    "    :param bin_data: a binary string\n",
    "    :return: the p-value from the test\n",
    "    \"\"\"\n",
    "    count = 0\n",
    "    # If the char is 0 minus 1, else add 1\n",
    "    for char in bin_data:\n",
    "        if char == '0':\n",
    "            count -= 1\n",
    "        else:\n",
    "            count += 1\n",
    "    # Calculate the p value\n",
    "    sobs = count / math.sqrt(len(bin_data))\n",
    "    p_val = spc.erfc(math.fabs(sobs) / math.sqrt(2))\n",
    "    return p_val\n",
    "\n",
    "\n",
    "#Generowanie n-bitowego ciągu \n",
    "n=3\n",
    "#arr = numpy.random.randint(2, size=(n,))\n",
    "bitString = []\n",
    "for i in range(0, 1024):\n",
    "    x = str(numpy.random.randint(0, 2))\n",
    "    bitString.append(x)\n",
    "arr = ''.join(bitString)\n",
    "print(arr)\n",
    "print(monobit(arr))"
   ]
  },
  {
   "cell_type": "markdown",
   "metadata": {},
   "source": [
    "Poniższy test nazywa się runs i opiera się na zliczaniu serii nieprzerwanych ciągów 0 albo 1 w ciągu wejściowym. Ocenia czy ich ilość jest taka jak przewidywana dla danych losowych.\n",
    "\n",
    "W samym teście najpierw wyliczamy wartość pi, czyli stosunek liczby jedynek do długości ciągu wejściowego. Następnie sprawdzamy czy ten stosunek mieści się w rozsądnym przedziale, co sprawdzamy za pomocą wyliczenia wartości tau, które wynosi 2/sqrt(n) gdzie n to długość ciągu wejściowego. Im dłuższy ciąg, tym bardziej pi powinno zbliżać się do 1/2. Jeżeli okaże się, że wartość ta za bardzo odstaje od przewidywanej, nie trzeba stosować testu runs aby stwierdzić, że dane wejściowe nie wyglądają losowo.\n",
    "\n",
    "Następnie zliczamy faktyczną liczbę nieprzerwanych ciągów tych samych wartości. Wyliczamy p_value stosując korzystając z funkcji zaproponowanej przez autorów testu. Na końcu sprawdzamy, czy p_value jest większe niż 1%. Jeżeli jest, test zostaje zakończony pomyślnie."
   ]
  },
  {
   "cell_type": "code",
   "execution_count": 57,
   "metadata": {},
   "outputs": [
    {
     "name": "stdout",
     "output_type": "stream",
     "text": [
      "0011001101000010100001100101001010101001100000100011101101101100100100100011000101011001111001001100101101110101000010001100110010001110011110111100100000000110100110010001011011110000011010010001000110100101100100100100111100101010000001101111011000100001000010100011000100001100010111101010111100001111011111001101101001010010110010001010011000001010111100011011000100110100010011100110000000000100100100000101100011010010010001000010001011001111011011100000011100010011100010100111000011101010011011000110111000010110010011110111000010011010110001101101101011100110110000111101110000011000010111010000001010010101000110001101010011000111001001001001110010111010101011110010001010101111110111110101111011011000011100111011011101111110000001000100110000010111000100001001100010000010011010011011010100101010010011110011100110110011011001111011010010111010010000001101011010100001101101111100101110101001000110101111011000011101101000100010001000000000101011011010011000010011101110011111000110001101011101110010000110111100\n",
      "Test zakończony pomyślnie:\n",
      "0.2861223843910182\n"
     ]
    }
   ],
   "source": [
    "import numpy\n",
    "import math\n",
    "from scipy import special as spc\n",
    "\n",
    "def count_ones(bin_data: str):\n",
    "    count=0\n",
    "    for l in bin_data:\n",
    "        if l=='1':\n",
    "            count+=1\n",
    "    return count\n",
    "\n",
    "def runs(bin_data: str):\n",
    "    \"\"\"\n",
    "    Note that this description is taken from the NIST documentation [1]\n",
    "    [1] http://csrc.nist.gov/publications/nistpubs/800-22-rev1a/SP800-22rev1a.pdf\n",
    "  \n",
    "    The focus of this test is the total number of runs in the sequence,\n",
    "    where a run is an uninterrupted sequence of identical bits.  \n",
    "    A run of length k consists of exactly k identical bits and is bounded\n",
    "    before and after with a bit of the opposite value. \n",
    "    The purpose of the runs test is to determine whether the number of runs of\n",
    "    ones and zeros of various lengths is as expected for a random sequence. \n",
    "    In particular, this test determines whether the oscillation between such\n",
    "    zeros and ones is too fast or too slow. \n",
    "\n",
    "\n",
    "    :param bin_data: a binary string\n",
    "    :return: the p-value from the test\n",
    "    \"\"\"\n",
    "    n = len(bin_data)\n",
    "    pi = count_ones(bin_data)/n\n",
    "    tau = 2/math.sqrt(n)\n",
    "    \n",
    "    if abs(pi - 1/2) >= tau:\n",
    "        print(\"Test Monobit nie powinien zostać zaliczony.\")\n",
    "        return 0\n",
    "    \n",
    "    count = 1\n",
    "    # If the char at next index is different, there is a new run\n",
    "    for i in range(n-1):\n",
    "        if bin_data[i] != bin_data[i+1]:\n",
    "            count+=1\n",
    "            \n",
    "    # Calculate the p value\n",
    "    p_val = spc.erfc((abs(count-2*n*pi*(1-pi)))/(2*math.sqrt(2*n)*pi*(1-pi)))\n",
    "    return p_val\n",
    "\n",
    "\n",
    "# Generowanie n-bitowego ciągu \n",
    "n=3\n",
    "arr = numpy.random.randint(2, size=(n,))\n",
    "bitString = []\n",
    "for i in range(0, 1024):\n",
    "    x = str(numpy.random.randint(0, 2))\n",
    "    bitString.append(x)\n",
    "arr = ''.join(bitString)\n",
    "# arr = '1001101011' - taki przykład podano w opisie testu, wynik wynosi zgodnie z opisem 0.147232\n",
    "print(arr)\n",
    "res = runs(arr)\n",
    "if res > 0.01:\n",
    "    print(\"Test zakończony pomyślnie:\")\n",
    "else:\n",
    "    print(\"Test niezaliczony:\")\n",
    "print(res)"
   ]
  },
  {
   "cell_type": "code",
   "execution_count": null,
   "metadata": {},
   "outputs": [],
   "source": []
  }
 ],
 "metadata": {
  "kernelspec": {
   "display_name": "Python 3 (ipykernel)",
   "language": "python",
   "name": "python3"
  },
  "language_info": {
   "codemirror_mode": {
    "name": "ipython",
    "version": 3
   },
   "file_extension": ".py",
   "mimetype": "text/x-python",
   "name": "python",
   "nbconvert_exporter": "python",
   "pygments_lexer": "ipython3",
   "version": "3.9.12"
  }
 },
 "nbformat": 4,
 "nbformat_minor": 1
}
